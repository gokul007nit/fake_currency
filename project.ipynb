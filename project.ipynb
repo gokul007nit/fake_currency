{
 "cells": [
  {
   "cell_type": "markdown",
   "id": "f08ba7b0-2359-4a8e-a779-bda668362d94",
   "metadata": {},
   "source": [
    "                                                           FAKE CURRENCY DETECTION"
   ]
  },
  {
   "cell_type": "code",
   "execution_count": 37,
   "id": "b2941236-ac7d-48a9-969d-aa5eaccb56a5",
   "metadata": {},
   "outputs": [
    {
     "name": "stdout",
     "output_type": "stream",
     "text": [
      "Requirement already satisfied: opencv-python in c:\\users\\gokul\\anaconda3\\lib\\site-packages (4.10.0.84)\n",
      "Requirement already satisfied: numpy in c:\\users\\gokul\\anaconda3\\lib\\site-packages (1.26.4)\n",
      "Note: you may need to restart the kernel to use updated packages.\n"
     ]
    }
   ],
   "source": [
    "pip install opencv-python numpy"
   ]
  },
  {
   "cell_type": "markdown",
   "id": "b268a559-e5d4-495f-b48b-5c6ea938098a",
   "metadata": {},
   "source": [
    "1. Preprocessing the Image(Grayscale conversion and thresholding reduce complexity)"
   ]
  },
  {
   "cell_type": "code",
   "execution_count": 39,
   "id": "ec04cf70-64e8-4f86-87b0-7a8496ab2f15",
   "metadata": {},
   "outputs": [],
   "source": [
    "import cv2\n",
    "import numpy as np\n",
    "\n",
    "def preprocess_image(image_path):\n",
    "   \n",
    "    image = cv2.imread(image_path)\n",
    "\n",
    "    resized_image = cv2.resize(image, (800, 400))\n",
    "\n",
    "\n",
    "    gray_image = cv2.cvtColor(resized_image, cv2.COLOR_BGR2GRAY)\n",
    "\n",
    "    _, binary_image = cv2.threshold(gray_image, 127, 255, cv2.THRESH_BINARY)\n",
    "\n",
    "    return resized_image, gray_image, binary_image\n"
   ]
  },
  {
   "cell_type": "markdown",
   "id": "7f7f9f84-bdbe-410d-ad41-244e9da4e403",
   "metadata": {},
   "source": [
    "2. Detecting Watermarks"
   ]
  },
  {
   "cell_type": "code",
   "execution_count": 41,
   "id": "66a29832-7c67-4480-9f8d-df118d2e7e1c",
   "metadata": {},
   "outputs": [],
   "source": [
    "def detect_watermark(binary_image):\n",
    "\n",
    "    edges = cv2.Canny(binary_image, 100, 200)\n",
    "\n",
    "    contours, _ = cv2.findContours(edges, cv2.RETR_EXTERNAL, cv2.CHAIN_APPROX_SIMPLE)\n",
    "\n",
    "    watermark_detected = False\n",
    "    for contour in contours:\n",
    "        if cv2.contourArea(contour) > 500:\n",
    "            watermark_detected = True\n",
    "            break\n",
    "\n",
    "    return watermark_detected"
   ]
  },
  {
   "cell_type": "markdown",
   "id": "63d6473e-6065-4953-a851-e6bc5eb7ac4e",
   "metadata": {},
   "source": [
    "3. Comparing with a Genuine Template"
   ]
  },
  {
   "cell_type": "code",
   "execution_count": 43,
   "id": "24097484-b382-4386-9bc3-a7e9818e555a",
   "metadata": {},
   "outputs": [],
   "source": [
    "def compare_with_template(gray_image, template_path):\n",
    "    \n",
    "    template = cv2.imread(template_path, cv2.IMREAD_GRAYSCALE)\n",
    "    template = cv2.resize(template, gray_image.shape[::-1])\n",
    "\n",
    "    \n",
    "    difference = cv2.absdiff(gray_image, template)\n",
    "    _, diff_binary = cv2.threshold(difference, 50, 255, cv2.THRESH_BINARY)\n",
    "\n",
    "    \n",
    "    diff_pixels = cv2.countNonZero(diff_binary)\n",
    "    similarity = 1 - diff_pixels / (gray_image.shape[0] * gray_image.shape[1])\n",
    "\n",
    "    return similarity"
   ]
  },
  {
   "cell_type": "markdown",
   "id": "ede397c9-a677-47aa-b0b1-1c66b6ab0923",
   "metadata": {},
   "source": [
    "4. Full Detection Pipeline"
   ]
  },
  {
   "cell_type": "code",
   "execution_count": 45,
   "id": "f01cb789-e286-49f6-8d31-a618a37cc68b",
   "metadata": {},
   "outputs": [],
   "source": [
    "def detect_fake_currency(image_path, template_path):\n",
    "  \n",
    "    resized_image, gray_image, binary_image = preprocess_image(image_path)\n",
    "\n",
    " \n",
    "    watermark_detected = detect_watermark(binary_image)\n",
    "\n",
    "    \n",
    "    similarity = compare_with_template(gray_image, template_path)\n",
    "\n",
    "    \n",
    "    if watermark_detected and similarity > 0.8:\n",
    "        result = \"Genuine Currency\"\n",
    "    else:\n",
    "        result = \"Fake Currency\"\n",
    "\n",
    "    cv2.imshow(\"Input Image\", resized_image)\n",
    "    cv2.waitKey(0)\n",
    "    cv2.destroyAllWindows()\n",
    "\n",
    "    return result\n"
   ]
  },
  {
   "cell_type": "markdown",
   "id": "2dd748a0-4ab8-427c-a95f-e54f9a7e17c4",
   "metadata": {},
   "source": [
    "5. Output"
   ]
  },
  {
   "cell_type": "code",
   "execution_count": 47,
   "id": "fd15e373-4354-44ac-80bf-69bb7a6410af",
   "metadata": {},
   "outputs": [
    {
     "name": "stdout",
     "output_type": "stream",
     "text": [
      "Currency Status: Genuine Currency\n"
     ]
    }
   ],
   "source": [
    "image_path =r\"C:\\Users\\gokul\\OneDrive\\Desktop\\project images\\original\\images1.jpg\" # Replace with the path to your test image\n",
    "template_path =r\"C:\\Users\\gokul\\OneDrive\\Desktop\\project images\\original\\images1.jpg\" # Replace with the path to your template image\n",
    "\n",
    "result = detect_fake_currency(image_path, template_path)\n",
    "print(f\"Currency Status: {result}\")\n"
   ]
  },
  {
   "cell_type": "code",
   "execution_count": null,
   "id": "28f97c38-a442-42d9-9448-334f3e8e4ffe",
   "metadata": {},
   "outputs": [],
   "source": []
  }
 ],
 "metadata": {
  "kernelspec": {
   "display_name": "Python 3 (ipykernel)",
   "language": "python",
   "name": "python3"
  },
  "language_info": {
   "codemirror_mode": {
    "name": "ipython",
    "version": 3
   },
   "file_extension": ".py",
   "mimetype": "text/x-python",
   "name": "python",
   "nbconvert_exporter": "python",
   "pygments_lexer": "ipython3",
   "version": "3.12.4"
  }
 },
 "nbformat": 4,
 "nbformat_minor": 5
}
